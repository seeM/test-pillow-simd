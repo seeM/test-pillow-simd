{
 "cells": [
  {
   "cell_type": "code",
   "execution_count": null,
   "id": "1082941d-3b1c-48d5-ab98-1966f53c0c36",
   "metadata": {},
   "outputs": [],
   "source": [
    "#|default_exp test"
   ]
  },
  {
   "cell_type": "code",
   "execution_count": null,
   "id": "f3e9cb31-ddfb-4e0a-8ec1-b49b86357638",
   "metadata": {},
   "outputs": [],
   "source": [
    "from nbdev.showdoc import *"
   ]
  },
  {
   "cell_type": "code",
   "execution_count": null,
   "id": "305a6af0-c4f2-4e4c-8fe1-9f06237868c9",
   "metadata": {},
   "outputs": [],
   "source": [
    "#|export\n",
    "class test():\n",
    "    \"this is a test\"\n",
    "    def __init__(self):\n",
    "        pass"
   ]
  },
  {
   "cell_type": "code",
   "execution_count": null,
   "id": "99ea58b4-4a11-4001-9853-f3fb1a53e62b",
   "metadata": {},
   "outputs": [
    {
     "data": {
      "text/markdown": [
       "---\n",
       "\n",
       "### test\n",
       "\n",
       ">      test ()\n",
       "\n",
       "this is a test"
      ],
      "text/plain": [
       "---\n",
       "\n",
       "### test\n",
       "\n",
       ">      test ()\n",
       "\n",
       "this is a test"
      ]
     },
     "execution_count": null,
     "metadata": {},
     "output_type": "execute_result"
    }
   ],
   "source": [
    "show_doc(test)"
   ]
  }
 ],
 "metadata": {
  "kernelspec": {
   "display_name": "Python 3 (ipykernel)",
   "language": "python",
   "name": "python3"
  }
 },
 "nbformat": 4,
 "nbformat_minor": 5
}
